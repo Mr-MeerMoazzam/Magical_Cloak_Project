{
  "cells": [
    {
      "cell_type": "markdown",
      "id": "83e1803e",
      "metadata": {
        "id": "83e1803e"
      },
      "source": [
        "# Project Code"
      ]
    },
    {
      "cell_type": "code",
      "execution_count": null,
      "id": "0831d3d4",
      "metadata": {
        "id": "0831d3d4"
      },
      "outputs": [],
      "source": [
        "import cv2\n",
        "import numpy as np\n",
        "open_kernel = np.ones((5,5),np.uint8)\n",
        "close_kernel = np.ones((7,7),np.uint8)\n",
        "dilation_kernel = np.ones((10, 10), np.uint8)\n",
        "#cv2.MORPH_CLOSE simply removes unnecessary details that are not required like in this project the noise is small black holes appear on the screen \n",
        "#cv2.MORPH_OPEN will remove the white region on the boundary of the cloth that is not required\n",
        "#cv2.dilate increases the white region in the image or the size of the foreground object increases\n",
        "    \n",
        "def filter_mask(mask):\n",
        "    close_mask = cv2.morphologyEx(mask, cv2.MORPH_CLOSE, close_kernel)\n",
        "    open_mask = cv2.morphologyEx(close_mask, cv2.MORPH_OPEN, open_kernel)\n",
        "    dilation = cv2.dilate(open_mask, dilation_kernel, iterations= 1)\n",
        "    return dilation\n",
        "\n",
        "def nothing(x):\n",
        "    pass\n",
        "\n",
        "cap=cv2.VideoCapture(0)\n",
        "bars=cv2.namedWindow(\"bars\")\n",
        "#Trackbars in OpenCV are helpful to tweak a variable value instantly without closing and relaunching the program\n",
        "cv2.createTrackbar(\"upper_hue\",\"bars\",135,180,nothing)\n",
        "cv2.createTrackbar(\"upper_saturation\",\"bars\",255,255,nothing)\n",
        "cv2.createTrackbar(\"upper_value\",\"bars\",255,255,nothing)\n",
        "cv2.createTrackbar(\"lower_hue\",\"bars\",110,180,nothing)\n",
        "cv2.createTrackbar(\"lower_saturation\",\"bars\",80,255,nothing)\n",
        "cv2.createTrackbar(\"lower_value\",\"bars\",50,255,nothing)\n",
        "\n",
        "# for taking initial frame\n",
        "for i in range(50):\n",
        "    ret, init_frame= cap.read()\n",
        "cv2.imshow(\"initial frame\",init_frame)\n",
        "#while(True):\n",
        "#    cv2.waitKey(1000)\n",
        "#    ret, init_frame= cap.read()\n",
        "#    if (ret):\n",
        "#        cv2.imshow(\"initial frame\",init_frame)\n",
        "#        break\n",
        "\n",
        "\n",
        "# start capturing frames for actual magic!!!!!!!!!!!        \n",
        "while(True):\n",
        "    ret, frame= cap.read()\n",
        "    # we want to convert our BGR image into HSV because the method that we are using to extract a color requires HSV Space\n",
        "    hsv_img=cv2.cvtColor(frame,cv2.COLOR_BGR2HSV)\n",
        "    upper_hue=cv2.getTrackbarPos(\"upper_hue\",\"bars\")\n",
        "    upper_saturation=cv2.getTrackbarPos(\"upper_saturation\",\"bars\")\n",
        "    upper_value=cv2.getTrackbarPos(\"upper_value\",\"bars\")\n",
        "    lower_hue=cv2.getTrackbarPos(\"lower_hue\",\"bars\")\n",
        "    lower_saturation=cv2.getTrackbarPos(\"lower_saturation\",\"bars\")\n",
        "    lower_value=cv2.getTrackbarPos(\"lower_value\",\"bars\")\n",
        "    #kernel is the matrix that are used for dilation, \n",
        "    #it tells us how to change the value of any given pixel by combining it with different amounts of the neighbouring pixels\n",
        "    #dilate means we are trying to reduce impurities\n",
        "    #np.uint8 is an unsigned 8bit integer\n",
        "    kernel= np.ones((3,3),np.uint8)\n",
        "    lower_hsv = np.array([lower_hue,lower_saturation,lower_value])\n",
        "    upper_hsv = np.array([upper_hue,upper_saturation,upper_value])\n",
        "    mask=cv2.inRange(hsv_img,lower_hsv,upper_hsv)\n",
        "    #mask=cv2.morphologyEx(mask, cv2.MORPH_OPEN ,np.ones((3,3) , np.uint8) , iterations=2)\n",
        "    #mask=cv2.morphologyEx(mask, cv2.MORPH_DILATE ,np.ones((3,3) , np.uint8) , iterations=1)\n",
        "    mask=filter_mask(mask)\n",
        "    #mask tells us which area of the image should keep\n",
        "    #masks are binary images that indicate the pixels in which operation is performed\n",
        "    #mask=cv2.medianBlur(mask,5)\n",
        "    mask_inv=cv2.bitwise_not(mask)\n",
        "    cv2.imshow(\"COLOR\",mask)\n",
        "    \n",
        "    b=frame[:,:,0]\n",
        "    g=frame[:,:,1]\n",
        "    r=frame[:,:,2]\n",
        "    b=cv2.bitwise_and(mask_inv,b)\n",
        "    g=cv2.bitwise_and(mask_inv,g)\n",
        "    r=cv2.bitwise_and(mask_inv,r)\n",
        "    #it will return a frame with black value of choosen color\n",
        "    frame_inv= cv2.merge([b,g,r])\n",
        "    \n",
        "    b=init_frame[:,:,0]\n",
        "    g=init_frame[:,:,1]\n",
        "    r=init_frame[:,:,2]\n",
        "    b=cv2.bitwise_and(b,mask)\n",
        "    g=cv2.bitwise_and(g,mask)\n",
        "    r=cv2.bitwise_and(r,mask)\n",
        "    cloak_area= cv2.merge([b,g,r])\n",
        "    \n",
        "    final= cv2.bitwise_or(frame_inv,cloak_area)\n",
        "    \n",
        "    cv2.imshow(\"Magical cloak\",final)\n",
        "    cv2.imshow(\"original\",frame)\n",
        "    \n",
        "    if(cv2.waitKey(3)==ord('q')):\n",
        "        break\n",
        "        \n",
        "        \n",
        "    \n",
        "\n",
        "cv2.destroyAllWindows()\n",
        "cap.release()\n"
      ]
    },
    {
      "cell_type": "code",
      "execution_count": null,
      "id": "6ba65325",
      "metadata": {
        "id": "6ba65325"
      },
      "outputs": [],
      "source": [
        ""
      ]
    }
  ],
  "metadata": {
    "kernelspec": {
      "display_name": "Python 3",
      "language": "python",
      "name": "python3"
    },
    "language_info": {
      "codemirror_mode": {
        "name": "ipython",
        "version": 3
      },
      "file_extension": ".py",
      "mimetype": "text/x-python",
      "name": "python",
      "nbconvert_exporter": "python",
      "pygments_lexer": "ipython3",
      "version": "3.8.8"
    },
    "colab": {
      "name": "Magical Cloak.ipynb",
      "provenance": []
    }
  },
  "nbformat": 4,
  "nbformat_minor": 5
}